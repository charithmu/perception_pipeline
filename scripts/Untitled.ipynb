{
 "cells": [
  {
   "cell_type": "code",
   "execution_count": null,
   "id": "prompt-excitement",
   "metadata": {},
   "outputs": [],
   "source": [
    "import numpy as np\n",
    "import random\n",
    "from open3d import *"
   ]
  },
  {
   "cell_type": "code",
   "execution_count": null,
   "id": "behavioral-joining",
   "metadata": {},
   "outputs": [],
   "source": [
    "source = [0, 0, 0]\n",
    "deviationFromPoint = 10\n",
    "num_points = 100\n",
    "\n",
    "points_array = []\n",
    "labels = np.array(np.random.randint(1, 5, num_points))\n",
    "\n",
    "for _ in range(num_points):\n",
    "    newPoint = [source[i] + random.random() * deviationFromPoint for i in range(3)]\n",
    "    points_array.append(newPoint)\n",
    "\n",
    "points = np.array(points_array)\n",
    "\n",
    "print(points.shape)\n",
    "print(labels.shape)"
   ]
  },
  {
   "cell_type": "code",
   "execution_count": null,
   "id": "hawaiian-strengthening",
   "metadata": {},
   "outputs": [],
   "source": [
    "pointcloud = np.array(np.column_stack([points, labels]))"
   ]
  },
  {
   "cell_type": "code",
   "execution_count": null,
   "id": "presidential-cooler",
   "metadata": {},
   "outputs": [],
   "source": [
    "pointcloud"
   ]
  },
  {
   "cell_type": "code",
   "execution_count": null,
   "id": "regulation-negotiation",
   "metadata": {},
   "outputs": [],
   "source": []
  }
 ],
 "metadata": {
  "kernelspec": {
   "display_name": "Python 3",
   "language": "python",
   "name": "python3"
  },
  "language_info": {
   "codemirror_mode": {
    "name": "ipython",
    "version": 3
   },
   "file_extension": ".py",
   "mimetype": "text/x-python",
   "name": "python",
   "nbconvert_exporter": "python",
   "pygments_lexer": "ipython3",
   "version": "3.8.8"
  }
 },
 "nbformat": 4,
 "nbformat_minor": 5
}